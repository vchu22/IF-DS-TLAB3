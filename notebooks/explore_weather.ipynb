{
 "cells": [
  {
   "cell_type": "markdown",
   "id": "63d0a69d",
   "metadata": {},
   "source": [
    "# Explore Weather\n",
    "\n",
    "Create your own EDA below! Create as many code-blocks as you need.\n",
    "\n",
    "Once you've completed your EDA, complete the section titled **Reflections** where you will answer questions about your EDA."
   ]
  },
  {
   "cell_type": "code",
   "execution_count": null,
   "id": "6655a736",
   "metadata": {},
   "outputs": [],
   "source": [
    "import pandas as pd \n",
    "import numpy as np\n",
    "\n",
    "import seaborn as sns\n",
    "import matplotlib.pyplot as plt"
   ]
  },
  {
   "cell_type": "code",
   "execution_count": null,
   "id": "868ea7cd",
   "metadata": {},
   "outputs": [],
   "source": [
    "# import data\n",
    "weather1 = pd.read_csv(\"../data/weather/weather_data1.csv\")\n",
    "weather2 = pd.read_csv(\"../data/weather/weather_data2.csv\")"
   ]
  },
  {
   "cell_type": "code",
   "execution_count": null,
   "id": "c57b5ccc",
   "metadata": {},
   "outputs": [],
   "source": [
    "# TODO: concatenate your data files together and save to a new csv file (\"../data/weather/weather_data.csv\")\n",
    "weather = ..."
   ]
  },
  {
   "cell_type": "code",
   "execution_count": null,
   "id": "a7c1799e",
   "metadata": {},
   "outputs": [],
   "source": [
    "# TODO: view first 5 rows of your data\n",
    "..."
   ]
  },
  {
   "cell_type": "code",
   "execution_count": null,
   "id": "83e6ecbd",
   "metadata": {},
   "outputs": [],
   "source": [
    "# TODO: describe your numeric columns\n",
    "..."
   ]
  },
  {
   "cell_type": "code",
   "execution_count": null,
   "id": "ab0c8b1f",
   "metadata": {},
   "outputs": [],
   "source": [
    "# TODO: display the null values in your dataframe\n",
    "..."
   ]
  },
  {
   "cell_type": "code",
   "execution_count": null,
   "id": "22fd1940",
   "metadata": {},
   "outputs": [],
   "source": [
    "# TODO: BEGIN YOUR EDA!\n",
    "\n"
   ]
  },
  {
   "cell_type": "markdown",
   "id": "a33e1db5",
   "metadata": {},
   "source": [
    "## Reflections\n",
    "\n",
    "Answer each question based on the visualizations that you've generated.\n",
    "\n",
    "Remember, you must justify your answers with proof! Look back to W6D3 for more context."
   ]
  },
  {
   "cell_type": "markdown",
   "id": "fe46532b",
   "metadata": {},
   "source": [
    "How is average temperature changing across the years for Minas Gerais? Is this increasing or decreasing?\n",
    "\n",
    "Answer here"
   ]
  },
  {
   "cell_type": "markdown",
   "id": "ccd4f1e8",
   "metadata": {},
   "source": [
    "How is minimum humidity changing across the years for Minas Gerais? Is this increasing or decreasing?\n",
    "\n",
    "Answer here"
   ]
  },
  {
   "cell_type": "markdown",
   "id": "0b500aa4",
   "metadata": {},
   "source": [
    "How is average wind speed changing across the years for Minas Gerais? Is this increasing or decreasing?\n",
    "\n",
    "Answer here"
   ]
  },
  {
   "cell_type": "markdown",
   "id": "359afc2e",
   "metadata": {},
   "source": [
    "Which year had the highest maximum record rainfall?\n",
    "\n",
    "Answer here"
   ]
  },
  {
   "cell_type": "markdown",
   "id": "be3dab9c",
   "metadata": {},
   "source": [
    "What is the relationship between max rain and max humidity? How *strong* is this relationship? Use pearson's correlation coefficient.\n",
    "\n",
    "Answer here"
   ]
  },
  {
   "cell_type": "markdown",
   "id": "ee6ea06a",
   "metadata": {},
   "source": [
    "What is the relationship between average wind speed and average temperature? How *strong* is this relationship? Use pearson's correlation coefficient.\n",
    "\n",
    "Answer here"
   ]
  }
 ],
 "metadata": {
  "language_info": {
   "name": "python"
  }
 },
 "nbformat": 4,
 "nbformat_minor": 5
}
